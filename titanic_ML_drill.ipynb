{
 "cells": [
  {
   "cell_type": "markdown",
   "metadata": {},
   "source": [
    "### INFO 180 – Metodar i kunstig intelligens\n",
    "### Oblig-oppgåve 4 – Maskinlæring\n",
    "\n",
    "### Av Hans Martin Aannestad"
   ]
  },
  {
   "cell_type": "code",
   "execution_count": 1,
   "metadata": {},
   "outputs": [],
   "source": [
    "import pandas as pd\n",
    "import scipy as sc\n",
    "import numpy as np\n",
    "\n",
    "# Load libraries\n",
    "from pandas import read_csv\n",
    "from sklearn.preprocessing import MinMaxScaler\n",
    "from pandas.plotting import scatter_matrix\n",
    "from matplotlib import pyplot\n",
    "from sklearn.model_selection import train_test_split\n",
    "from sklearn.model_selection import cross_val_score\n",
    "from sklearn.model_selection import StratifiedKFold\n",
    "from sklearn.metrics import classification_report\n",
    "from sklearn.metrics import confusion_matrix\n",
    "from sklearn.metrics import accuracy_score\n",
    "from sklearn.linear_model import LogisticRegression\n",
    "from sklearn.tree import DecisionTreeClassifier\n",
    "from sklearn.neighbors import KNeighborsClassifier as KNN\n",
    "from sklearn.discriminant_analysis import LinearDiscriminantAnalysis\n",
    "from sklearn.naive_bayes import GaussianNB\n",
    "from sklearn.svm import SVC\n",
    "from sklearn.model_selection import GridSearchCV\n"
   ]
  },
  {
   "cell_type": "code",
   "execution_count": 2,
   "metadata": {},
   "outputs": [
    {
     "name": "stderr",
     "output_type": "stream",
     "text": [
      "C:\\Users\\hmaan\\AppData\\Local\\Temp/ipykernel_13212/450378945.py:3: FutureWarning: In a future version of pandas all arguments of DataFrame.drop except for the argument 'labels' will be keyword-only\n",
      "  df = df.drop('Name',1)   # Fjerner navn\n"
     ]
    },
    {
     "data": {
      "text/html": [
       "<div>\n",
       "<style scoped>\n",
       "    .dataframe tbody tr th:only-of-type {\n",
       "        vertical-align: middle;\n",
       "    }\n",
       "\n",
       "    .dataframe tbody tr th {\n",
       "        vertical-align: top;\n",
       "    }\n",
       "\n",
       "    .dataframe thead th {\n",
       "        text-align: right;\n",
       "    }\n",
       "</style>\n",
       "<table border=\"1\" class=\"dataframe\">\n",
       "  <thead>\n",
       "    <tr style=\"text-align: right;\">\n",
       "      <th></th>\n",
       "      <th>Survived</th>\n",
       "      <th>Pclass</th>\n",
       "      <th>Sex</th>\n",
       "      <th>Age</th>\n",
       "      <th>Siblings/Spouses Aboard</th>\n",
       "      <th>Parents/Children Aboard</th>\n",
       "      <th>Fare</th>\n",
       "    </tr>\n",
       "  </thead>\n",
       "  <tbody>\n",
       "    <tr>\n",
       "      <th>0</th>\n",
       "      <td>0</td>\n",
       "      <td>3</td>\n",
       "      <td>0</td>\n",
       "      <td>22.0</td>\n",
       "      <td>1</td>\n",
       "      <td>0</td>\n",
       "      <td>7.2500</td>\n",
       "    </tr>\n",
       "    <tr>\n",
       "      <th>1</th>\n",
       "      <td>1</td>\n",
       "      <td>1</td>\n",
       "      <td>1</td>\n",
       "      <td>38.0</td>\n",
       "      <td>1</td>\n",
       "      <td>0</td>\n",
       "      <td>71.2833</td>\n",
       "    </tr>\n",
       "    <tr>\n",
       "      <th>2</th>\n",
       "      <td>1</td>\n",
       "      <td>3</td>\n",
       "      <td>1</td>\n",
       "      <td>26.0</td>\n",
       "      <td>0</td>\n",
       "      <td>0</td>\n",
       "      <td>7.9250</td>\n",
       "    </tr>\n",
       "    <tr>\n",
       "      <th>3</th>\n",
       "      <td>1</td>\n",
       "      <td>1</td>\n",
       "      <td>1</td>\n",
       "      <td>35.0</td>\n",
       "      <td>1</td>\n",
       "      <td>0</td>\n",
       "      <td>53.1000</td>\n",
       "    </tr>\n",
       "    <tr>\n",
       "      <th>4</th>\n",
       "      <td>0</td>\n",
       "      <td>3</td>\n",
       "      <td>0</td>\n",
       "      <td>35.0</td>\n",
       "      <td>0</td>\n",
       "      <td>0</td>\n",
       "      <td>8.0500</td>\n",
       "    </tr>\n",
       "    <tr>\n",
       "      <th>...</th>\n",
       "      <td>...</td>\n",
       "      <td>...</td>\n",
       "      <td>...</td>\n",
       "      <td>...</td>\n",
       "      <td>...</td>\n",
       "      <td>...</td>\n",
       "      <td>...</td>\n",
       "    </tr>\n",
       "    <tr>\n",
       "      <th>882</th>\n",
       "      <td>0</td>\n",
       "      <td>2</td>\n",
       "      <td>0</td>\n",
       "      <td>27.0</td>\n",
       "      <td>0</td>\n",
       "      <td>0</td>\n",
       "      <td>13.0000</td>\n",
       "    </tr>\n",
       "    <tr>\n",
       "      <th>883</th>\n",
       "      <td>1</td>\n",
       "      <td>1</td>\n",
       "      <td>1</td>\n",
       "      <td>19.0</td>\n",
       "      <td>0</td>\n",
       "      <td>0</td>\n",
       "      <td>30.0000</td>\n",
       "    </tr>\n",
       "    <tr>\n",
       "      <th>884</th>\n",
       "      <td>0</td>\n",
       "      <td>3</td>\n",
       "      <td>1</td>\n",
       "      <td>7.0</td>\n",
       "      <td>1</td>\n",
       "      <td>2</td>\n",
       "      <td>23.4500</td>\n",
       "    </tr>\n",
       "    <tr>\n",
       "      <th>885</th>\n",
       "      <td>1</td>\n",
       "      <td>1</td>\n",
       "      <td>0</td>\n",
       "      <td>26.0</td>\n",
       "      <td>0</td>\n",
       "      <td>0</td>\n",
       "      <td>30.0000</td>\n",
       "    </tr>\n",
       "    <tr>\n",
       "      <th>886</th>\n",
       "      <td>0</td>\n",
       "      <td>3</td>\n",
       "      <td>0</td>\n",
       "      <td>32.0</td>\n",
       "      <td>0</td>\n",
       "      <td>0</td>\n",
       "      <td>7.7500</td>\n",
       "    </tr>\n",
       "  </tbody>\n",
       "</table>\n",
       "<p>887 rows × 7 columns</p>\n",
       "</div>"
      ],
      "text/plain": [
       "     Survived  Pclass  Sex   Age  Siblings/Spouses Aboard  \\\n",
       "0           0       3    0  22.0                        1   \n",
       "1           1       1    1  38.0                        1   \n",
       "2           1       3    1  26.0                        0   \n",
       "3           1       1    1  35.0                        1   \n",
       "4           0       3    0  35.0                        0   \n",
       "..        ...     ...  ...   ...                      ...   \n",
       "882         0       2    0  27.0                        0   \n",
       "883         1       1    1  19.0                        0   \n",
       "884         0       3    1   7.0                        1   \n",
       "885         1       1    0  26.0                        0   \n",
       "886         0       3    0  32.0                        0   \n",
       "\n",
       "     Parents/Children Aboard     Fare  \n",
       "0                          0   7.2500  \n",
       "1                          0  71.2833  \n",
       "2                          0   7.9250  \n",
       "3                          0  53.1000  \n",
       "4                          0   8.0500  \n",
       "..                       ...      ...  \n",
       "882                        0  13.0000  \n",
       "883                        0  30.0000  \n",
       "884                        2  23.4500  \n",
       "885                        0  30.0000  \n",
       "886                        0   7.7500  \n",
       "\n",
       "[887 rows x 7 columns]"
      ]
     },
     "execution_count": 2,
     "metadata": {},
     "output_type": "execute_result"
    }
   ],
   "source": [
    "names = ['Survived','Pclass','Name','Sex','Age','Siblings/Spouses Aboard','Parents/Children Aboard','Fare']\n",
    "df = read_csv('titanic.csv', names=names)\n",
    "df = df.drop('Name',1)   # Fjerner navn\n",
    "#df.assign(Sex=pd.factorize(df['Sex'])[0])\n",
    "df['Sex'] = df['Sex'].replace(['male','female'],[0,1])     # gjør om til binært\n",
    "df"
   ]
  },
  {
   "cell_type": "code",
   "execution_count": 3,
   "metadata": {},
   "outputs": [
    {
     "name": "stderr",
     "output_type": "stream",
     "text": [
      "C:\\Users\\hmaan\\AppData\\Local\\Temp/ipykernel_13212/1416223592.py:10: FutureWarning: In a future version of pandas all arguments of DataFrame.drop except for the argument 'labels' will be keyword-only\n",
      "  X_train = df_train.drop('Survived',1)\n",
      "C:\\Users\\hmaan\\AppData\\Local\\Temp/ipykernel_13212/1416223592.py:13: FutureWarning: In a future version of pandas all arguments of DataFrame.drop except for the argument 'labels' will be keyword-only\n",
      "  X_test = df_test.drop('Survived',1)\n"
     ]
    }
   ],
   "source": [
    "scaler = MinMaxScaler()\n",
    "# Splitter før man modifiserer datasettet\n",
    "df_train, df_test = train_test_split(df, test_size=0.2,random_state=1)\n",
    "\n",
    "# Skalerer verider\n",
    "df_train = pd.DataFrame(scaler.fit_transform(df_train.values), columns=df_train.columns, index=df_train.index)\n",
    "df_test = pd.DataFrame(scaler.fit_transform(df_test.values), columns=df_test.columns, index=df_test.index)\n",
    "\n",
    "y_train = df_train['Survived']\n",
    "X_train = df_train.drop('Survived',1)\n",
    "\n",
    "y_test = df_test['Survived']\n",
    "X_test = df_test.drop('Survived',1)"
   ]
  },
  {
   "cell_type": "markdown",
   "metadata": {},
   "source": [
    "• K-næraste nabo: her må de gå gjennom heile datasettet og erstatte alle verdiar for Sex\n",
    "(male, female) med 0 eller 1. Det er og enklast om de fjernar namnekolonna. I tillegg bør de\n",
    "sørge for ei skalering av verdiane i kvar kolonne, slik at dei vert konvertert til intervallet [0,1].\n",
    "Dette gjer ein fordi dei ulike kolonnene har ulike verdispenn, og dei med stort verdispenn vil \n",
    "telje mykje meir enn dei med lite verdispenn om ein ikkje skalerer. Skalering kan de gjere\n",
    "med verktøyet minMaxScaler som fins i programpakken sklearn. De ser korleis den kan\n",
    "brukast her:\n",
    "https://scikit-learn.org/stable/modules/generated/sklearn.preprocessing.MinMaxScaler.html\n",
    "De skal bruke sklearn sin K-nearest neighbour-klasse:\n",
    "https://scikitlearn.org/stable/modules/generated/sklearn.neighbors.KNeighborsClassifier.html\n",
    "De treng ikkje tenke på anna enn val av k, dvs. tal på naboar som skal brukast i klassifiseringa\n",
    "som parameter her. Om de ikkje veljer k, vert den sett til 5."
   ]
  },
  {
   "cell_type": "code",
   "execution_count": 4,
   "metadata": {},
   "outputs": [],
   "source": [
    "# K NEAREST NEIGHBORS (KNN), auto pipeline:\n",
    "\n",
    "# Optimering av hyperparameter K på treningsdata\n",
    "\n",
    "#leaf_size = list(range(1,30))\n",
    "#n_neighbors = list(range(1,20))\n",
    "#p=[1,2]\n",
    "\n",
    "#hyperparameters = dict(leaf_size=list(range(1,30)), n_neighbors=list(range(1,25)), p=[1,2])\n",
    "#clf = GridSearchCV(KNN(), hyperparameters, cv=10)\n",
    "#opt_knn = clf.fit(X_train,y_train)\n",
    "\n",
    "#print('leaf_size:', opt_knn.best_estimator_.get_params()['leaf_size'])\n",
    "#print('p:', opt_knn.best_estimator_.get_params()['p'])\n",
    "#print('n_neighbors:', opt_knn.best_estimator_.get_params()['n_neighbors'])\n",
    "\n",
    "# Velg beste modell, evaluer på test data\n",
    "#y_pred = opt_knn.predict(X_test)\n",
    "#print (f'KNN accuracy: {accuracy_score(y_test,y_pred):.3f}')"
   ]
  },
  {
   "cell_type": "code",
   "execution_count": 10,
   "metadata": {},
   "outputs": [
    {
     "name": "stdout",
     "output_type": "stream",
     "text": [
      "KNN train accuracy: 0.843\n",
      "KNN test accuracy: 0.831\n"
     ]
    }
   ],
   "source": [
    "# Gjorde det til slutt enkelt: kjør enkel modell på test data\n",
    "\n",
    "opt_knn = KNN(n_neighbors=6)\n",
    "opt_knn = opt_knn.fit(X_train, y_train)\n",
    "\n",
    "y_train_pred = opt_knn.predict(X_train)\n",
    "y_test_pred = opt_knn.predict(X_test)\n",
    "\n",
    "print (f'KNN train accuracy: {accuracy_score(y_train,y_train_pred):.3f}')\n",
    "print (f'KNN test accuracy: {accuracy_score(y_test,y_test_pred):.3f}')"
   ]
  },
  {
   "cell_type": "markdown",
   "metadata": {},
   "source": [
    "• Naiv bayes: her må de gå gjennom heile datasettet og konvertere dei numeriske verdiane i\n",
    "Age og Fare til kvalitative verdiar (for eksempel ‘ung’, ’ganske ung’, ‘ganske gammal’,\n",
    "‘gammal’). Dette gjer de ved å finne kvartilane (25%, 50%, og 75%-persentilane) for dei to\n",
    "kolonnene og bruke desse grensene til velje gruppe for kvar passasjer. Dette gjer ein fordi\n",
    "såkalla «kategorisk naiv bayes» brukar kategoriar i læringsalgoritmen og ikkje tal. De kan\n",
    "bruke biblioteket numpy til å finne grenser for kvartilane:\n",
    "https://numpy.org/doc/stable/reference/generated/numpy.percentile.html\n",
    "Etterpå må de lage kolonner som inneheld rett kvartil for kvar passasjer.\n",
    "De skal bruke sklearn sin kategoriske naiv bayes:\n",
    "https://scikit-learn.org/stable/modules/generated/sklearn.naive_bayes.CategoricalNB.html\n",
    "De treng ikkje tenke på parametrar her."
   ]
  },
  {
   "cell_type": "code",
   "execution_count": 6,
   "metadata": {},
   "outputs": [],
   "source": [
    "\n",
    "from sklearn.naive_bayes import CategoricalNB\n",
    "\n",
    "# (25%, 50%, og 75%-persentilane)\n",
    "\n",
    "# Percentile: 1-25,25-50,50-75,75-100\n",
    "# Bin:          1    2     3      4\n",
    "\n",
    "age25 = np.percentile(df['Age'],25)\n",
    "age50 = np.percentile(df['Age'],50)\n",
    "age75 = np.percentile(df['Age'],75)\n",
    "\n",
    "# Age -> categorical\n",
    "df['Age'] = df['Age'].astype(int)\n",
    "df.loc[df['Age'] <= age25, 'Age'] = 1\n",
    "df.loc[(df['Age'] > age25) & (df['Age'] <= age50), 'Age'] = 2\n",
    "df.loc[(df['Age'] > age50) & (df['Age'] <= age75), 'Age'] = 3\n",
    "df.loc[df['Age'] > age75, 'Age'] = 4\n",
    "\n",
    "fare25 = np.percentile(df['Fare'],25)\n",
    "fare50 = np.percentile(df['Fare'],50)\n",
    "fare75 = np.percentile(df['Fare'],75)\n",
    "\n",
    "# Fare -> categorical\n",
    "df['Fare'] = df['Fare'].astype(int)\n",
    "df.loc[df['Fare'] <= fare25, 'Fare'] = 1\n",
    "df.loc[(df['Fare'] > fare25) & (df['Fare'] <= fare50), 'Fare'] = 2\n",
    "df.loc[(df['Fare'] > fare50) & (df['Fare'] <= fare75), 'Fare'] = 3\n",
    "df.loc[df['Fare'] > fare75, 'Fare'] = 4\n"
   ]
  },
  {
   "cell_type": "code",
   "execution_count": 12,
   "metadata": {},
   "outputs": [
    {
     "name": "stdout",
     "output_type": "stream",
     "text": [
      "Naive Bayes train accuracy: 0.793\n",
      "Naive Bayes test accuracy: 0.775\n"
     ]
    },
    {
     "name": "stderr",
     "output_type": "stream",
     "text": [
      "C:\\Users\\hmaan\\AppData\\Local\\Temp/ipykernel_13212/2384148492.py:6: FutureWarning: In a future version of pandas all arguments of DataFrame.drop except for the argument 'labels' will be keyword-only\n",
      "  X_train = df_train.drop('Survived',1)\n",
      "C:\\Users\\hmaan\\AppData\\Local\\Temp/ipykernel_13212/2384148492.py:9: FutureWarning: In a future version of pandas all arguments of DataFrame.drop except for the argument 'labels' will be keyword-only\n",
      "  X_test = df_test.drop('Survived',1)\n"
     ]
    }
   ],
   "source": [
    "from sklearn.naive_bayes import GaussianNB  # could not get CategoricalNB to work for prediction so used GaussianNB\n",
    "\n",
    "df_train, df_test = train_test_split(df, test_size=0.2,random_state=1)\n",
    "\n",
    "y_train = df_train['Survived']\n",
    "X_train = df_train.drop('Survived',1)\n",
    "\n",
    "y_test = df_test['Survived']\n",
    "X_test = df_test.drop('Survived',1)\n",
    "\n",
    "clf = GaussianNB()\n",
    "#clf = CategoricalNB()\n",
    "clf.fit(X_train, y_train)\n",
    "\n",
    "y_train_pred=clf.predict(X_train)\n",
    "y_test_pred=clf.predict(X_test)\n",
    "print (f'Naive Bayes train accuracy: {accuracy_score(y_train,y_train_pred):.3f}')\n",
    "print (f'Naive Bayes test accuracy: {accuracy_score(y_test,y_test_pred):.3f}')"
   ]
  },
  {
   "cell_type": "markdown",
   "metadata": {},
   "source": [
    "• Logistisk regresjon: Denne metoden er ikkje forelest, men de kan finne informasjon her:\n",
    "https://www.datacamp.com/community/tutorials/understanding-logistic-regression-python\n",
    "Her kan de bruke same datasettet som for k-næraste nabo, både den skalerte og ikkjeskalerte versjonen går nok bra."
   ]
  },
  {
   "cell_type": "code",
   "execution_count": 13,
   "metadata": {},
   "outputs": [
    {
     "name": "stdout",
     "output_type": "stream",
     "text": [
      "Logistisk regresjon train accuracy: 0.800\n",
      "Logistisk regresjon test accuracy: 0.803\n"
     ]
    },
    {
     "name": "stderr",
     "output_type": "stream",
     "text": [
      "C:\\Users\\hmaan\\AppData\\Local\\Temp/ipykernel_13212/556006969.py:8: FutureWarning: In a future version of pandas all arguments of DataFrame.drop except for the argument 'labels' will be keyword-only\n",
      "  df = df.drop('Name',1)   # Fjerner navn\n",
      "C:\\Users\\hmaan\\AppData\\Local\\Temp/ipykernel_13212/556006969.py:20: FutureWarning: In a future version of pandas all arguments of DataFrame.drop except for the argument 'labels' will be keyword-only\n",
      "  X_train = df_train.drop('Survived',1)\n",
      "C:\\Users\\hmaan\\AppData\\Local\\Temp/ipykernel_13212/556006969.py:23: FutureWarning: In a future version of pandas all arguments of DataFrame.drop except for the argument 'labels' will be keyword-only\n",
      "  X_test = df_test.drop('Survived',1)\n"
     ]
    }
   ],
   "source": [
    "from sklearn.linear_model import LogisticRegression\n",
    "logreg = LogisticRegression()\n",
    "\n",
    "# Her kan de bruke same datasettet som for k-næraste nabo:\n",
    "\n",
    "names = ['Survived','Pclass','Name','Sex','Age','Siblings/Spouses Aboard','Parents/Children Aboard','Fare']\n",
    "df = read_csv('titanic.csv', names=names)\n",
    "df = df.drop('Name',1)   # Fjerner navn\n",
    "df['Sex'] = df['Sex'].replace(['male','female'],[0,1])   #df.assign(Sex=pd.factorize(df['Sex'])[0])\n",
    "\n",
    "scaler = MinMaxScaler()\n",
    "# Splitter før man modifiserer datasettet\n",
    "df_train, df_test = train_test_split(df, test_size=0.2,random_state=1)\n",
    "\n",
    "# Skalerer verider\n",
    "df_train = pd.DataFrame(scaler.fit_transform(df_train.values), columns=df_train.columns, index=df_train.index)\n",
    "df_test = pd.DataFrame(scaler.fit_transform(df_test.values), columns=df_test.columns, index=df_test.index)\n",
    "\n",
    "y_train = df_train['Survived']\n",
    "X_train = df_train.drop('Survived',1)\n",
    "\n",
    "y_test = df_test['Survived']\n",
    "X_test = df_test.drop('Survived',1)\n",
    "\n",
    "# Logistisk regresjon:\n",
    "\n",
    "logreg.fit(X_train,y_train)\n",
    "\n",
    "y_train_pred=logreg.predict(X_train)\n",
    "y_test_pred=logreg.predict(X_test)\n",
    "\n",
    "# import the metrics class\n",
    "from sklearn import metrics\n",
    "cnf_matrix = metrics.confusion_matrix(y_test, y_test_pred)\n",
    "cnf_matrix\n",
    "\n",
    "print (f'Logistisk regresjon train accuracy: {accuracy_score(y_train,y_train_pred):.3f}')\n",
    "print (f'Logistisk regresjon test accuracy: {accuracy_score(y_test,y_test_pred):.3f}')\n",
    "\n"
   ]
  },
  {
   "cell_type": "code",
   "execution_count": null,
   "metadata": {},
   "outputs": [],
   "source": []
  }
 ],
 "metadata": {
  "interpreter": {
   "hash": "b4cdbc7c3fa968f8f57a8da50a47c3ee9b8594a4de967130c021b1087ec3a6ed"
  },
  "kernelspec": {
   "display_name": "Python 3.8.5 64-bit ('ml': conda)",
   "language": "python",
   "name": "python3"
  },
  "language_info": {
   "codemirror_mode": {
    "name": "ipython",
    "version": 3
   },
   "file_extension": ".py",
   "mimetype": "text/x-python",
   "name": "python",
   "nbconvert_exporter": "python",
   "pygments_lexer": "ipython3",
   "version": "3.8.5"
  },
  "orig_nbformat": 4
 },
 "nbformat": 4,
 "nbformat_minor": 2
}
